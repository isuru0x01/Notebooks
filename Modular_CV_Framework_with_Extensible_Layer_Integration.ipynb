{
  "nbformat": 4,
  "nbformat_minor": 0,
  "metadata": {
    "colab": {
      "provenance": [],
      "authorship_tag": "ABX9TyOzFkp7DnPTyNsjUWlwo8fD",
      "include_colab_link": true
    },
    "kernelspec": {
      "name": "python3",
      "display_name": "Python 3"
    },
    "language_info": {
      "name": "python"
    }
  },
  "cells": [
    {
      "cell_type": "markdown",
      "metadata": {
        "id": "view-in-github",
        "colab_type": "text"
      },
      "source": [
        "<a href=\"https://colab.research.google.com/github/isuru0x01/Notebooks/blob/main/Modular_CV_Framework_with_Extensible_Layer_Integration.ipynb\" target=\"_parent\"><img src=\"https://colab.research.google.com/assets/colab-badge.svg\" alt=\"Open In Colab\"/></a>"
      ]
    },
    {
      "cell_type": "code",
      "execution_count": 1,
      "metadata": {
        "colab": {
          "base_uri": "https://localhost:8080/"
        },
        "id": "RX2IXMoRaOsl",
        "outputId": "777f7374-1c4e-4a17-8b79-e320c84ceb32"
      },
      "outputs": [
        {
          "output_type": "stream",
          "name": "stdout",
          "text": [
            "Requirement already satisfied: tensorflow in /usr/local/lib/python3.10/dist-packages (2.15.0)\n",
            "Requirement already satisfied: absl-py>=1.0.0 in /usr/local/lib/python3.10/dist-packages (from tensorflow) (1.4.0)\n",
            "Requirement already satisfied: astunparse>=1.6.0 in /usr/local/lib/python3.10/dist-packages (from tensorflow) (1.6.3)\n",
            "Requirement already satisfied: flatbuffers>=23.5.26 in /usr/local/lib/python3.10/dist-packages (from tensorflow) (24.3.25)\n",
            "Requirement already satisfied: gast!=0.5.0,!=0.5.1,!=0.5.2,>=0.2.1 in /usr/local/lib/python3.10/dist-packages (from tensorflow) (0.5.4)\n",
            "Requirement already satisfied: google-pasta>=0.1.1 in /usr/local/lib/python3.10/dist-packages (from tensorflow) (0.2.0)\n",
            "Requirement already satisfied: h5py>=2.9.0 in /usr/local/lib/python3.10/dist-packages (from tensorflow) (3.9.0)\n",
            "Requirement already satisfied: libclang>=13.0.0 in /usr/local/lib/python3.10/dist-packages (from tensorflow) (18.1.1)\n",
            "Requirement already satisfied: ml-dtypes~=0.2.0 in /usr/local/lib/python3.10/dist-packages (from tensorflow) (0.2.0)\n",
            "Requirement already satisfied: numpy<2.0.0,>=1.23.5 in /usr/local/lib/python3.10/dist-packages (from tensorflow) (1.25.2)\n",
            "Requirement already satisfied: opt-einsum>=2.3.2 in /usr/local/lib/python3.10/dist-packages (from tensorflow) (3.3.0)\n",
            "Requirement already satisfied: packaging in /usr/local/lib/python3.10/dist-packages (from tensorflow) (24.1)\n",
            "Requirement already satisfied: protobuf!=4.21.0,!=4.21.1,!=4.21.2,!=4.21.3,!=4.21.4,!=4.21.5,<5.0.0dev,>=3.20.3 in /usr/local/lib/python3.10/dist-packages (from tensorflow) (3.20.3)\n",
            "Requirement already satisfied: setuptools in /usr/local/lib/python3.10/dist-packages (from tensorflow) (67.7.2)\n",
            "Requirement already satisfied: six>=1.12.0 in /usr/local/lib/python3.10/dist-packages (from tensorflow) (1.16.0)\n",
            "Requirement already satisfied: termcolor>=1.1.0 in /usr/local/lib/python3.10/dist-packages (from tensorflow) (2.4.0)\n",
            "Requirement already satisfied: typing-extensions>=3.6.6 in /usr/local/lib/python3.10/dist-packages (from tensorflow) (4.12.2)\n",
            "Requirement already satisfied: wrapt<1.15,>=1.11.0 in /usr/local/lib/python3.10/dist-packages (from tensorflow) (1.14.1)\n",
            "Requirement already satisfied: tensorflow-io-gcs-filesystem>=0.23.1 in /usr/local/lib/python3.10/dist-packages (from tensorflow) (0.37.0)\n",
            "Requirement already satisfied: grpcio<2.0,>=1.24.3 in /usr/local/lib/python3.10/dist-packages (from tensorflow) (1.64.1)\n",
            "Requirement already satisfied: tensorboard<2.16,>=2.15 in /usr/local/lib/python3.10/dist-packages (from tensorflow) (2.15.2)\n",
            "Requirement already satisfied: tensorflow-estimator<2.16,>=2.15.0 in /usr/local/lib/python3.10/dist-packages (from tensorflow) (2.15.0)\n",
            "Requirement already satisfied: keras<2.16,>=2.15.0 in /usr/local/lib/python3.10/dist-packages (from tensorflow) (2.15.0)\n",
            "Requirement already satisfied: wheel<1.0,>=0.23.0 in /usr/local/lib/python3.10/dist-packages (from astunparse>=1.6.0->tensorflow) (0.43.0)\n",
            "Requirement already satisfied: google-auth<3,>=1.6.3 in /usr/local/lib/python3.10/dist-packages (from tensorboard<2.16,>=2.15->tensorflow) (2.27.0)\n",
            "Requirement already satisfied: google-auth-oauthlib<2,>=0.5 in /usr/local/lib/python3.10/dist-packages (from tensorboard<2.16,>=2.15->tensorflow) (1.2.0)\n",
            "Requirement already satisfied: markdown>=2.6.8 in /usr/local/lib/python3.10/dist-packages (from tensorboard<2.16,>=2.15->tensorflow) (3.6)\n",
            "Requirement already satisfied: requests<3,>=2.21.0 in /usr/local/lib/python3.10/dist-packages (from tensorboard<2.16,>=2.15->tensorflow) (2.31.0)\n",
            "Requirement already satisfied: tensorboard-data-server<0.8.0,>=0.7.0 in /usr/local/lib/python3.10/dist-packages (from tensorboard<2.16,>=2.15->tensorflow) (0.7.2)\n",
            "Requirement already satisfied: werkzeug>=1.0.1 in /usr/local/lib/python3.10/dist-packages (from tensorboard<2.16,>=2.15->tensorflow) (3.0.3)\n",
            "Requirement already satisfied: cachetools<6.0,>=2.0.0 in /usr/local/lib/python3.10/dist-packages (from google-auth<3,>=1.6.3->tensorboard<2.16,>=2.15->tensorflow) (5.3.3)\n",
            "Requirement already satisfied: pyasn1-modules>=0.2.1 in /usr/local/lib/python3.10/dist-packages (from google-auth<3,>=1.6.3->tensorboard<2.16,>=2.15->tensorflow) (0.4.0)\n",
            "Requirement already satisfied: rsa<5,>=3.1.4 in /usr/local/lib/python3.10/dist-packages (from google-auth<3,>=1.6.3->tensorboard<2.16,>=2.15->tensorflow) (4.9)\n",
            "Requirement already satisfied: requests-oauthlib>=0.7.0 in /usr/local/lib/python3.10/dist-packages (from google-auth-oauthlib<2,>=0.5->tensorboard<2.16,>=2.15->tensorflow) (1.3.1)\n",
            "Requirement already satisfied: charset-normalizer<4,>=2 in /usr/local/lib/python3.10/dist-packages (from requests<3,>=2.21.0->tensorboard<2.16,>=2.15->tensorflow) (3.3.2)\n",
            "Requirement already satisfied: idna<4,>=2.5 in /usr/local/lib/python3.10/dist-packages (from requests<3,>=2.21.0->tensorboard<2.16,>=2.15->tensorflow) (3.7)\n",
            "Requirement already satisfied: urllib3<3,>=1.21.1 in /usr/local/lib/python3.10/dist-packages (from requests<3,>=2.21.0->tensorboard<2.16,>=2.15->tensorflow) (2.0.7)\n",
            "Requirement already satisfied: certifi>=2017.4.17 in /usr/local/lib/python3.10/dist-packages (from requests<3,>=2.21.0->tensorboard<2.16,>=2.15->tensorflow) (2024.6.2)\n",
            "Requirement already satisfied: MarkupSafe>=2.1.1 in /usr/local/lib/python3.10/dist-packages (from werkzeug>=1.0.1->tensorboard<2.16,>=2.15->tensorflow) (2.1.5)\n",
            "Requirement already satisfied: pyasn1<0.7.0,>=0.4.6 in /usr/local/lib/python3.10/dist-packages (from pyasn1-modules>=0.2.1->google-auth<3,>=1.6.3->tensorboard<2.16,>=2.15->tensorflow) (0.6.0)\n",
            "Requirement already satisfied: oauthlib>=3.0.0 in /usr/local/lib/python3.10/dist-packages (from requests-oauthlib>=0.7.0->google-auth-oauthlib<2,>=0.5->tensorboard<2.16,>=2.15->tensorflow) (3.2.2)\n"
          ]
        }
      ],
      "source": [
        "!pip install tensorflow"
      ]
    },
    {
      "cell_type": "code",
      "source": [
        "import tensorflow as tf\n",
        "from tensorflow.keras import layers, models"
      ],
      "metadata": {
        "id": "nf4nKPCBaa9Y"
      },
      "execution_count": 2,
      "outputs": []
    },
    {
      "cell_type": "code",
      "source": [
        "class ConvLayerModule:\n",
        "    def __init__(self, filters, kernel_size, dilation_rate=1):\n",
        "        self.filters = filters\n",
        "        self.kernel_size = kernel_size\n",
        "        self.dilation_rate = dilation_rate\n",
        "\n",
        "    def build_layer(self):\n",
        "        return layers.Conv2D(filters=self.filters,\n",
        "                             kernel_size=self.kernel_size,\n",
        "                             dilation_rate=self.dilation_rate,\n",
        "                             activation='relu')"
      ],
      "metadata": {
        "id": "65REXfrXaiRF"
      },
      "execution_count": 3,
      "outputs": []
    },
    {
      "cell_type": "code",
      "source": [
        "class AttentionLayerModule:\n",
        "    def __init__(self, units):\n",
        "        self.units = units\n",
        "\n",
        "    def build_layer(self):\n",
        "        return layers.Attention()"
      ],
      "metadata": {
        "id": "SiHUcUuGa1ds"
      },
      "execution_count": 4,
      "outputs": []
    },
    {
      "cell_type": "code",
      "source": [
        "class SequenceModelingModule:\n",
        "    def __init__(self, input_shape, conv_layer_module, attention_layer_module=None):\n",
        "        self.input_shape = input_shape\n",
        "        self.conv_layer_module = conv_layer_module\n",
        "        self.attention_layer_module = attention_layer_module\n",
        "        self.model = self.build_model()\n",
        "\n",
        "    def build_model(self):\n",
        "        inputs = layers.Input(shape=self.input_shape)\n",
        "        x = self.conv_layer_module.build_layer()(inputs)\n",
        "        if self.attention_layer_module:\n",
        "            x = self.attention_layer_module.build_layer()([x, x])\n",
        "        x = layers.Flatten()(x)\n",
        "        x = layers.Dense(64, activation='relu')(x)\n",
        "        outputs = layers.Dense(10, activation='softmax')(x)\n",
        "        model = models.Model(inputs=inputs, outputs=outputs)\n",
        "        model.compile(optimizer='adam', loss='sparse_categorical_crossentropy', metrics=['accuracy'])\n",
        "        return model\n",
        "\n",
        "    def train(self, X, y, epochs=3):\n",
        "        self.model.fit(X, y, epochs=epochs)\n",
        "\n",
        "    def predict(self, X):\n",
        "        return self.model.predict(X)\n"
      ],
      "metadata": {
        "id": "CnqslsAca4Md"
      },
      "execution_count": 5,
      "outputs": []
    },
    {
      "cell_type": "code",
      "source": [
        "class CVFramework:\n",
        "    def __init__(self, input_shape, conv_layer_params, attention_layer_params=None):\n",
        "        self.conv_layer_module = ConvLayerModule(**conv_layer_params)\n",
        "        self.attention_layer_module = AttentionLayerModule(**attention_layer_params) if attention_layer_params else None\n",
        "        self.sequence_model = SequenceModelingModule(input_shape, self.conv_layer_module, self.attention_layer_module)\n",
        "\n",
        "    def train(self, X, y, epochs=3):\n",
        "        self.sequence_model.train(X, y, epochs)\n",
        "\n",
        "    def predict(self, X):\n",
        "        return self.sequence_model.predict(X)\n"
      ],
      "metadata": {
        "id": "1AXeuSa_bFpC"
      },
      "execution_count": 6,
      "outputs": []
    },
    {
      "cell_type": "code",
      "source": [
        "# Load CIFAR-10 dataset\n",
        "(X_train, y_train), (X_test, y_test) = tf.keras.datasets.cifar10.load_data()\n",
        "\n",
        "# Normalize the data\n",
        "X_train, X_test = X_train / 255.0, X_test / 255.0\n",
        "\n",
        "# Model parameters\n",
        "input_shape = X_train.shape[1:]\n",
        "conv_layer_params = {'filters': 32, 'kernel_size': 3, 'dilation_rate': 1}\n",
        "attention_layer_params = {'units': 64}  # Only needed if using attention\n",
        "\n",
        "# Initialize and train the framework with standard convolution\n",
        "framework = CVFramework(input_shape, conv_layer_params)\n",
        "framework.train(X_train, y_train, epochs=3)\n",
        "\n",
        "# Predict on test data\n",
        "predictions = framework.predict(X_test)\n",
        "print(predictions[:5])  # Print first 5 predictions\n"
      ],
      "metadata": {
        "colab": {
          "base_uri": "https://localhost:8080/"
        },
        "id": "TC5ySyTwbpdW",
        "outputId": "c688e002-5494-4f49-d809-31d0b79ad6c7"
      },
      "execution_count": 7,
      "outputs": [
        {
          "output_type": "stream",
          "name": "stdout",
          "text": [
            "Downloading data from https://www.cs.toronto.edu/~kriz/cifar-10-python.tar.gz\n",
            "170498071/170498071 [==============================] - 3s 0us/step\n",
            "Epoch 1/3\n",
            "1563/1563 [==============================] - 63s 40ms/step - loss: 1.6657 - accuracy: 0.3991\n",
            "Epoch 2/3\n",
            "1563/1563 [==============================] - 61s 39ms/step - loss: 1.3377 - accuracy: 0.5200\n",
            "Epoch 3/3\n",
            "1563/1563 [==============================] - 60s 38ms/step - loss: 1.2320 - accuracy: 0.5597\n",
            "313/313 [==============================] - 3s 10ms/step\n",
            "[[9.25594047e-02 3.16347834e-03 1.10440984e-01 4.32891786e-01\n",
            "  1.62472334e-02 2.49033064e-01 2.70461719e-02 1.28147705e-03\n",
            "  6.52308986e-02 2.10541673e-03]\n",
            " [3.05623449e-02 4.07679677e-01 3.13984060e-06 1.78843266e-07\n",
            "  3.74643534e-08 1.91633713e-08 1.51886567e-07 4.22123847e-08\n",
            "  5.48676670e-01 1.30777126e-02]\n",
            " [2.44830072e-01 1.08403407e-01 2.77929427e-03 1.00258668e-03\n",
            "  1.29533990e-04 5.01256029e-04 2.99756703e-05 5.49657794e-04\n",
            "  5.35028398e-01 1.06745869e-01]\n",
            " [6.00766838e-01 2.95718592e-02 5.26173925e-03 1.95517088e-04\n",
            "  7.03622936e-04 5.20656649e-05 7.71878113e-05 2.03899559e-04\n",
            "  3.58437449e-01 4.72991634e-03]\n",
            " [7.86805409e-04 8.13140301e-04 1.84911281e-01 2.82528281e-01\n",
            "  1.22032091e-01 2.15974689e-01 1.74721211e-01 1.54790794e-02\n",
            "  5.97414270e-04 2.15600105e-03]]\n"
          ]
        }
      ]
    },
    {
      "cell_type": "code",
      "source": [
        "# Change to dilated convolutions\n",
        "conv_layer_params['dilation_rate'] = 2  # Example dilation rate\n",
        "\n",
        "# Reinitialize and train the framework with dilated convolutions\n",
        "framework = CVFramework(input_shape, conv_layer_params)\n",
        "framework.train(X_train, y_train, epochs=3)\n",
        "\n",
        "# Predict on test data\n",
        "predictions = framework.predict(X_test)\n",
        "print(predictions[:5])  # Print first 5 predictions\n"
      ],
      "metadata": {
        "colab": {
          "base_uri": "https://localhost:8080/"
        },
        "id": "tPK_Z4SCeQdc",
        "outputId": "bbfdaf9e-a7b6-4d60-c024-948e2155ad83"
      },
      "execution_count": 8,
      "outputs": [
        {
          "output_type": "stream",
          "name": "stdout",
          "text": [
            "Epoch 1/3\n",
            "1563/1563 [==============================] - 58s 36ms/step - loss: 1.5510 - accuracy: 0.4478\n",
            "Epoch 2/3\n",
            "1563/1563 [==============================] - 58s 37ms/step - loss: 1.3022 - accuracy: 0.5395\n",
            "Epoch 3/3\n",
            "1563/1563 [==============================] - 61s 39ms/step - loss: 1.1773 - accuracy: 0.5870\n",
            "313/313 [==============================] - 3s 10ms/step\n",
            "[[5.57674095e-02 4.38387226e-03 1.84823945e-01 3.79323989e-01\n",
            "  2.91444603e-02 1.42243162e-01 1.48666352e-01 3.74078657e-03\n",
            "  4.71707620e-02 4.73511731e-03]\n",
            " [7.90235251e-02 2.66711324e-01 2.12209648e-04 1.46034590e-05\n",
            "  1.60420444e-04 1.68033091e-06 7.71801660e-06 2.95385635e-05\n",
            "  5.47801375e-01 1.06037594e-01]\n",
            " [2.88312554e-01 1.16693549e-01 3.12486454e-03 4.42992756e-03\n",
            "  5.08762198e-04 1.69050088e-03 1.90415463e-04 7.75742286e-04\n",
            "  5.09718716e-01 7.45549649e-02]\n",
            " [5.03964484e-01 1.07006589e-02 4.97785863e-03 3.45252862e-04\n",
            "  1.39726768e-03 6.89098597e-05 2.00205948e-04 8.59490887e-04\n",
            "  4.72801715e-01 4.68415627e-03]\n",
            " [3.15971934e-04 7.50674866e-04 6.37589768e-02 1.43062502e-01\n",
            "  6.87199950e-01 5.71228787e-02 4.45205234e-02 9.67365224e-04\n",
            "  2.06111325e-03 2.40066875e-04]]\n"
          ]
        }
      ]
    },
    {
      "cell_type": "code",
      "source": [
        "# Initialize and train the framework with attention mechanism\n",
        "framework = CVFramework(input_shape, conv_layer_params, attention_layer_params)\n",
        "framework.train(X_train, y_train, epochs=3)\n",
        "\n",
        "# Predict on test data\n",
        "predictions = framework.predict(X_test)\n",
        "print(predictions[:5])  # Print first 5 predictions\n"
      ],
      "metadata": {
        "colab": {
          "base_uri": "https://localhost:8080/"
        },
        "id": "eXhoOtFyeUol",
        "outputId": "328db8a6-e117-44e8-b4fb-10b38bb4ea3c"
      },
      "execution_count": 9,
      "outputs": [
        {
          "output_type": "stream",
          "name": "stdout",
          "text": [
            "Epoch 1/3\n",
            "1563/1563 [==============================] - 103s 66ms/step - loss: 1.6597 - accuracy: 0.3956\n",
            "Epoch 2/3\n",
            "1563/1563 [==============================] - 101s 65ms/step - loss: 1.4420 - accuracy: 0.4822\n",
            "Epoch 3/3\n",
            "1563/1563 [==============================] - 104s 66ms/step - loss: 1.3408 - accuracy: 0.5259\n",
            "313/313 [==============================] - 6s 20ms/step\n",
            "[[7.5827576e-03 3.5958274e-03 3.4017373e-02 5.6194776e-01 3.1993199e-02\n",
            "  3.1832707e-01 2.5065443e-02 6.4562145e-03 8.9282151e-03 2.0861158e-03]\n",
            " [3.4886044e-01 1.5902543e-01 2.2482928e-03 7.9760604e-05 5.6787656e-04\n",
            "  4.9971779e-05 2.1624650e-05 1.3934210e-03 4.5387363e-01 3.3879530e-02]\n",
            " [1.4675480e-01 5.0400335e-02 5.8789249e-03 2.0529837e-03 1.9714339e-03\n",
            "  1.1622502e-03 1.6088810e-04 2.1132706e-03 7.7152711e-01 1.7977975e-02]\n",
            " [2.8950590e-01 2.8954523e-02 1.2093485e-02 2.4156605e-03 1.0640982e-02\n",
            "  1.6772717e-03 8.4397732e-05 4.8913443e-03 6.3921952e-01 1.0516980e-02]\n",
            " [1.5770404e-02 6.9978805e-03 1.0451374e-01 2.7339235e-01 2.8571004e-01\n",
            "  1.0060526e-01 1.8277413e-01 2.0247290e-02 3.0315276e-03 6.9574006e-03]]\n"
          ]
        }
      ]
    }
  ]
}