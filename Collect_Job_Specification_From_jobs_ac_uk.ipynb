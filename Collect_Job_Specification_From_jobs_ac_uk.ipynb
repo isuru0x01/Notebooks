{
  "nbformat": 4,
  "nbformat_minor": 0,
  "metadata": {
    "colab": {
      "name": "Collect Job Specification From jobs.ac.uk.ipynb",
      "provenance": [],
      "authorship_tag": "ABX9TyN6EhusB4XofAbXUOCJ2dd/",
      "include_colab_link": true
    },
    "kernelspec": {
      "name": "python3",
      "display_name": "Python 3"
    },
    "language_info": {
      "name": "python"
    }
  },
  "cells": [
    {
      "cell_type": "markdown",
      "metadata": {
        "id": "view-in-github",
        "colab_type": "text"
      },
      "source": [
        "<a href=\"https://colab.research.google.com/github/isuru0x01/Notebooks/blob/main/Collect_Job_Specification_From_jobs_ac_uk.ipynb\" target=\"_parent\"><img src=\"https://colab.research.google.com/assets/colab-badge.svg\" alt=\"Open In Colab\"/></a>"
      ]
    },
    {
      "cell_type": "code",
      "metadata": {
        "colab": {
          "base_uri": "https://localhost:8080/"
        },
        "id": "06M2ZKHPDM5P",
        "outputId": "77f9237e-6f6b-4d33-ec11-d04e8fabbe5b"
      },
      "source": [
        "from bs4 import BeautifulSoup\n",
        "from urllib.request import urlopen\n",
        "\n",
        "# web = input('Input web URL')\n",
        "web = 'https://www.jobs.ac.uk/job/CLA162/student-data-analyst'\n",
        "page = urlopen(web)\n",
        "html = page.read().decode(\"utf-8\")\n",
        "soup = BeautifulSoup(html, \"html.parser\")\n",
        "\n",
        "job_title = soup.find('h1', {'class' : 'j-advert__title row-3'})\n",
        "job_description = soup.find(id = \"job-description\")\n",
        "employer = soup.find('h3', {'class' : 'j-advert__employer row-4'})\n",
        "\n",
        "job_title_cleaned = job_title.get_text()\n",
        "job_description_cleaned = job_description.get_text()\n",
        "employer_cleaned = employer.get_text()\n",
        "\n",
        "print(job_title_cleaned)\n",
        "print(job_description_cleaned)\n",
        "print(employer_cleaned.strip())"
      ],
      "execution_count": 14,
      "outputs": [
        {
          "output_type": "stream",
          "name": "stdout",
          "text": [
            "Student Data Analyst\n",
            "\n",
            "Location: Highfield Campus\n",
            "Fixed term for 2 years\n",
            "Interview date: To be confirmed\n",
            "Student and Academic Administration is engaged in a broad range of activities which support the student lifecycle and student experience, including admissions, enrolment, curriculum quality, planning and timetabling, assessment, award, and graduation. Our work is delivered in functional teams through the central Registry and Faculty-based student offices, aiming to provide a consistently high-quality service to students. \n",
            "We are looking for a Student Data Analyst to join our Student External Returns Team to help with the production of high-quality statutory returns of student data, including the HESA Student (Higher Education Statistics Agency) and HESES (Higher Education Students Early Statistics) returns, ensuring that data is of the highest quality. The team will also be involved in the transition to Data Futures during the term of this post. \n",
            "You will need to have experience working with complex data sets, well-developed interpersonal skills, an eye for detail and creativity around problem-solving in. You should have a flexible approach and be able to manage conflicting demands. Experience of working within the Higher Education sector would be advantageous. \n",
            "The team is currently working from home, but we will be adopting hybrid working during 2022. \n",
            "For an informal discussion about this post, please contact Emma Bennett, Statutory Returns and Data Quality Manager: E.L.Bennett@southampton.ac.uk\n",
            "This post is offered on a full-time, fixed term contract for 2 years.\n",
            "Application Procedure \n",
            "You should submit your completed online application form at jobs.soton.ac.uk. The application deadline will be midnight on the closing date stated above. If you need any assistance, please call Michelle Jose (HR Recruitment Team) on +44 (0) 23 8059 2750 or email recruitment@soton.ac.uk. Please quote reference 1604621GX on all correspondence\n",
            "Further details:\n",
            "We aim to be an equal opportunities employer and welcome applications from all sections of the community. Please note that applications from agencies will not be accepted unless indicated in the job advert.\n",
            "\n",
            "\n",
            "\n",
            "University of Southampton\n",
            "\n",
            "            - Student Systems and Operations\n"
          ]
        }
      ]
    },
    {
      "cell_type": "code",
      "metadata": {
        "id": "ulx5DhhCHegG"
      },
      "source": [
        ""
      ],
      "execution_count": null,
      "outputs": []
    }
  ]
}