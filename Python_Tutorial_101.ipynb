{
  "nbformat": 4,
  "nbformat_minor": 0,
  "metadata": {
    "colab": {
      "provenance": []
    },
    "kernelspec": {
      "name": "python3",
      "display_name": "Python 3"
    },
    "language_info": {
      "name": "python"
    }
  },
  "cells": [
    {
      "cell_type": "markdown",
      "source": [
        "Python is a fantastic programming language for beginners.\n",
        "\n",
        "*   Easy to Learn: Python's syntax is known for being clear and readable, much\n",
        "    like plain English. This makes it easier to understand how your code works and write new programs without getting bogged down in complex structures.\n",
        "*   Powerful and Versatile: Don't be fooled by its beginner-friendliness!  \n",
        "    Python can be used to build a wide range of applications, from simple scripts to complex web services and data analysis tools.\n",
        "*   Huge Community and Resources: There's a massive community of Python\n",
        "    programmers around the world, which means there's plenty of help and support available online. You'll find countless tutorials, forums, and communities dedicated to helping you learn.\n",
        "\n",
        "The good news is Python is **free and easy to install on Windows, Mac, and Linux**. You can find clear installation instructions on the official Python website https://www.python.org/downloads/."
      ],
      "metadata": {
        "id": "W53a-JsqWceQ"
      }
    },
    {
      "cell_type": "code",
      "execution_count": 1,
      "metadata": {
        "colab": {
          "base_uri": "https://localhost:8080/"
        },
        "id": "2jTtD9cyWWos",
        "outputId": "b5fc5177-6ae1-48b8-aa41-a7c18c3a414b"
      },
      "outputs": [
        {
          "output_type": "stream",
          "name": "stdout",
          "text": [
            "Hello Students!\n"
          ]
        }
      ],
      "source": [
        "print(\"Hello Students!\")"
      ]
    },
    {
      "cell_type": "markdown",
      "source": [
        "#### Syntax\n",
        "\n",
        "Python's syntax is known for being clear and concise, resembling regular English. It uses keywords like `if`, `for`, and `while` to define code structures and doesn't require punctuation like semicolons at the end of statements (unlike Java).\n",
        "\n",
        "Java's syntax is more formal and closer to other programming languages like C++. It uses curly braces `{}` to define code blocks and requires semicolons at the end of each statement.\n",
        "\n",
        "#### Indentation\n",
        "\n",
        "Uniquely, Python uses indentation to define code blocks, not curly braces. Spaces or tabs at the beginning of a line indicate that the line is part of a block. Consistent indentation is crucial for Python code to run correctly. For example:"
      ],
      "metadata": {
        "id": "Nm9PTcdIYvw_"
      }
    },
    {
      "cell_type": "code",
      "source": [
        "x = int(input(\"Enter the x value:\"))\n",
        "\n",
        "if x > 0:\n",
        "  print(\"X is positive\")\n",
        "else:\n",
        "  print(\"X is non-positive\")"
      ],
      "metadata": {
        "colab": {
          "base_uri": "https://localhost:8080/"
        },
        "id": "An2Tfpj0YV7X",
        "outputId": "5772864b-b5c7-4eab-e31a-c9a9847f2d83"
      },
      "execution_count": 7,
      "outputs": [
        {
          "output_type": "stream",
          "name": "stdout",
          "text": [
            "Enter the x value:9\n",
            "X is positive\n"
          ]
        }
      ]
    },
    {
      "cell_type": "markdown",
      "source": [
        "Integers: Represented by the `int` class, holding positive or negative whole numbers without decimals.\n",
        "\n",
        "Floats: Represented by the float class, holding real numbers with a floating-point representation.\n",
        "\n",
        "Complex Numbers: Represented as (real part) + (imaginary part)j, for example, `2+3j`.\n",
        "\n",
        "Strings: A collection of characters enclosed in single, double, or triple quotes, represented by the str class\n",
        "\n",
        "Boolean: Holds True or False values, represented by the bool class.\n",
        "\n",
        "Lists: A sequence type to store multiple values in an ordered manner.\n",
        "\n",
        "Tuples: Another sequence type like lists but immutable once created.\n",
        "\n",
        "Dictionaries: A mapping type storing data in key-value pairs within curly braces.\n",
        "\n",
        "Sets: A set type to store unique elements without duplicates.\n",
        "\n",
        "Bytes, Bytearray, Memoryview: Binary types for handling binary data efficiently."
      ],
      "metadata": {
        "id": "7w8QCoZ6xZt7"
      }
    },
    {
      "cell_type": "code",
      "source": [
        "# Integers\n",
        "my_integer = 42\n",
        "print(\"Integer example:\", my_integer, \"Type:\", type(my_integer))\n",
        "\n",
        "# Floats\n",
        "my_float = 3.14\n",
        "print(\"Float example:\", my_float, \"Type:\", type(my_float))\n",
        "\n",
        "# Complex Numbers\n",
        "my_complex = 2 + 3j\n",
        "print(\"Complex number example:\", my_complex, \"Type:\", type(my_complex))\n",
        "\n",
        "# Strings\n",
        "my_string = \"Hello, Python!\"\n",
        "print(\"String example:\", my_string, \"Type:\", type(my_string))\n",
        "\n",
        "# Boolean\n",
        "my_boolean = True\n",
        "print(\"Boolean example:\", my_boolean, \"Type:\", type(my_boolean))\n",
        "\n",
        "# Lists\n",
        "my_list = [1, 2, 3, 4, 5]\n",
        "print(\"List example:\", my_list, \"Type:\", type(my_list))\n",
        "\n",
        "# Tuples\n",
        "my_tuple = (6, 7, 8, 9, 10)\n",
        "print(\"Tuple example:\", my_tuple, \"Type:\", type(my_tuple))\n",
        "\n",
        "# Dictionaries\n",
        "my_dict = {'name': 'Alice', 'age': 30}\n",
        "print(\"Dictionary example:\", my_dict, \"Type:\", type(my_dict))\n",
        "\n",
        "# Sets\n",
        "my_set = {1, 2, 3, 4, 5}\n",
        "print(\"Set example:\", my_set, \"Type:\", type(my_set))\n",
        "\n",
        "# Bytes\n",
        "my_bytes = b'hello'\n",
        "print(\"Bytes example:\", my_bytes, \"Type:\", type(my_bytes))\n",
        "\n",
        "# Bytearray\n",
        "my_bytearray = bytearray(b'world')\n",
        "print(\"Bytearray example:\", my_bytearray, \"Type:\", type(my_bytearray))\n",
        "\n",
        "# Memoryview\n",
        "my_memoryview = memoryview(b'Python')\n",
        "print(\"Memoryview example:\", my_memoryview, \"Type:\", type(my_memoryview))"
      ],
      "metadata": {
        "colab": {
          "base_uri": "https://localhost:8080/"
        },
        "id": "0ActSbvxxZa1",
        "outputId": "b9dade32-022d-48f0-9e0e-dd5fa0b821fd"
      },
      "execution_count": 8,
      "outputs": [
        {
          "output_type": "stream",
          "name": "stdout",
          "text": [
            "Integer example: 42 Type: <class 'int'>\n",
            "Float example: 3.14 Type: <class 'float'>\n",
            "Complex number example: (2+3j) Type: <class 'complex'>\n",
            "String example: Hello, Python! Type: <class 'str'>\n",
            "Boolean example: True Type: <class 'bool'>\n",
            "List example: [1, 2, 3, 4, 5] Type: <class 'list'>\n",
            "Tuple example: (6, 7, 8, 9, 10) Type: <class 'tuple'>\n",
            "Dictionary example: {'name': 'Alice', 'age': 30} Type: <class 'dict'>\n",
            "Set example: {1, 2, 3, 4, 5} Type: <class 'set'>\n",
            "Bytes example: b'hello' Type: <class 'bytes'>\n",
            "Bytearray example: bytearray(b'world') Type: <class 'bytearray'>\n",
            "Memoryview example: <memory at 0x7d4848c64940> Type: <class 'memoryview'>\n"
          ]
        }
      ]
    },
    {
      "cell_type": "code",
      "source": [
        "# English words for Boolean logic\n",
        "\n",
        "# Define variables\n",
        "is_sunny = True\n",
        "is_raining = False\n",
        "\n",
        "# Using English words for logical operations\n",
        "if is_sunny and not is_raining:\n",
        "    print(\"It's a sunny day and not raining. Perfect weather!\")\n",
        "elif is_sunny or is_raining:\n",
        "    print(\"It's either sunny or raining. Check the weather forecast.\")\n",
        "elif not is_sunny and not is_raining:\n",
        "    print(\"It's neither sunny nor raining. What's the weather like?\")\n",
        "else:\n",
        "    print(\"Weather conditions are uncertain. Stay updated!\")\n"
      ],
      "metadata": {
        "colab": {
          "base_uri": "https://localhost:8080/"
        },
        "id": "zpG6vFoW1x1M",
        "outputId": "e6073363-805d-4538-9c86-a20dac34e247"
      },
      "execution_count": 10,
      "outputs": [
        {
          "output_type": "stream",
          "name": "stdout",
          "text": [
            "It's a sunny day and not raining. Perfect weather!\n",
            "Enjoy your day, whatever it may be!\n"
          ]
        }
      ]
    },
    {
      "cell_type": "code",
      "source": [
        "# Additional example\n",
        "is_weekend = True\n",
        "is_workday = True\n",
        "\n",
        "if is_weekend and not is_workday:\n",
        "    print(\"It's the weekend, time to relax!\")\n",
        "elif not is_weekend and is_workday:\n",
        "    print(\"It's a workday, time to be productive!\")\n",
        "else:\n",
        "    print(\"Enjoy your day, whatever it may be!\")"
      ],
      "metadata": {
        "colab": {
          "base_uri": "https://localhost:8080/"
        },
        "id": "GJ9i10Rq2CD0",
        "outputId": "fdee14f0-b8cd-4f13-dcc9-2fbfa83e6b81"
      },
      "execution_count": 11,
      "outputs": [
        {
          "output_type": "stream",
          "name": "stdout",
          "text": [
            "Enjoy your day, whatever it may be!\n"
          ]
        }
      ]
    },
    {
      "cell_type": "code",
      "source": [
        "d = {'person': 2, 'cat': 4, 'spider': 8}\n",
        "\n",
        "for animal in d:\n",
        "  legs = d[animal]\n",
        "  print('A %s has %d legs' % (animal, legs))"
      ],
      "metadata": {
        "colab": {
          "base_uri": "https://localhost:8080/"
        },
        "id": "A2haiEs5szsG",
        "outputId": "056cc24c-f352-475d-8b5c-9aebe3490e3c"
      },
      "execution_count": 2,
      "outputs": [
        {
          "output_type": "stream",
          "name": "stdout",
          "text": [
            "A person has 2 legs\n",
            "A cat has 4 legs\n",
            "A spider has 8 legs\n"
          ]
        }
      ]
    },
    {
      "cell_type": "code",
      "source": [
        "# Lists in Python\n",
        "\n",
        "# Constructing lists\n",
        "my_list = [1, 2, 3, 4, 5]\n",
        "print(\"Initial list:\", my_list)\n",
        "\n",
        "# Constructors\n",
        "new_list = list((6, 7, 8, 9, 10))\n",
        "print(\"Using list() constructor:\", new_list)\n",
        "\n",
        "# List comprehensions\n",
        "squared_list = [x**2 for x in range(1, 6)]\n",
        "print(\"List comprehension example:\", squared_list)\n",
        "\n",
        "# Literal syntax\n",
        "empty_list = []\n",
        "print(\"Empty list using literal syntax:\", empty_list)\n",
        "\n",
        "# Methods for adding elements\n",
        "my_list.insert(2, 100)\n",
        "print(\"After inserting at index 2:\", my_list)\n",
        "\n",
        "my_list.append(200)\n",
        "print(\"After appending 200:\", my_list)\n",
        "\n",
        "my_list.extend([300, 400])\n",
        "print(\"After extending with [300, 400]:\", my_list)"
      ],
      "metadata": {
        "colab": {
          "base_uri": "https://localhost:8080/"
        },
        "id": "7ruWZO6X5fpp",
        "outputId": "17ad4b1a-92b1-4a1f-8f70-5e5461f2a507"
      },
      "execution_count": 12,
      "outputs": [
        {
          "output_type": "stream",
          "name": "stdout",
          "text": [
            "Initial list: [1, 2, 3, 4, 5]\n",
            "Using list() constructor: [6, 7, 8, 9, 10]\n",
            "List comprehension example: [1, 4, 9, 16, 25]\n",
            "Empty list using literal syntax: []\n",
            "After inserting at index 2: [1, 2, 100, 3, 4, 5]\n",
            "After appending 200: [1, 2, 100, 3, 4, 5, 200]\n",
            "After extending with [300, 400]: [1, 2, 100, 3, 4, 5, 200, 300, 400]\n"
          ]
        }
      ]
    },
    {
      "cell_type": "code",
      "source": [
        "# Methods for deleting elements\n",
        "my_list.remove(100)\n",
        "print(\"After removing 100:\", my_list)\n",
        "\n",
        "popped_item = my_list.pop(3)\n",
        "print(\"Popped item at index 3:\", popped_item)\n",
        "print(\"List after pop operation:\", my_list)\n",
        "\n",
        "# Methods for information\n",
        "index_of_5 = my_list.index(5)\n",
        "print(\"Index of value 5:\", index_of_5)\n",
        "\n",
        "count_of_4 = my_list.count(4)\n",
        "print(\"Count of value 4:\", count_of_4)\n",
        "\n",
        "# Methods for modifying\n",
        "my_list.sort()\n",
        "print(\"Sorted list:\", my_list)\n",
        "\n",
        "my_list.reverse()\n",
        "print(\"Reversed list:\", my_list)\n"
      ],
      "metadata": {
        "colab": {
          "base_uri": "https://localhost:8080/"
        },
        "id": "aUlbK1cl5jTZ",
        "outputId": "b4d11910-d385-4fd1-ec66-7aebc658c2c7"
      },
      "execution_count": 13,
      "outputs": [
        {
          "output_type": "stream",
          "name": "stdout",
          "text": [
            "After removing 100: [1, 2, 3, 4, 5, 200, 300, 400]\n",
            "Popped item at index 3: 4\n",
            "List after pop operation: [1, 2, 3, 5, 200, 300, 400]\n",
            "Index of value 5: 3\n",
            "Count of value 4: 0\n",
            "Sorted list: [1, 2, 3, 5, 200, 300, 400]\n",
            "Reversed list: [400, 300, 200, 5, 3, 2, 1]\n"
          ]
        }
      ]
    },
    {
      "cell_type": "code",
      "source": [
        "length = len(my_list)\n",
        "print(\"Length of the list:\", length)\n",
        "\n",
        "minimum_value = min(my_list)\n",
        "print(\"Minimum value in the list:\", minimum_value)\n",
        "\n",
        "maximum_value = max(my_list)\n",
        "print(\"Maximum value in the list:\", maximum_value)\n",
        "\n",
        "total_sum = sum(my_list)\n",
        "print(\"Sum of all elements in the list:\", total_sum)"
      ],
      "metadata": {
        "colab": {
          "base_uri": "https://localhost:8080/"
        },
        "id": "PZ8frdq-6QJf",
        "outputId": "8554aadc-081d-444f-b4e1-5d877122c848"
      },
      "execution_count": 14,
      "outputs": [
        {
          "output_type": "stream",
          "name": "stdout",
          "text": [
            "Length of the list: 7\n",
            "Minimum value in the list: 1\n",
            "Maximum value in the list: 400\n",
            "Sum of all elements in the list: 911\n"
          ]
        }
      ]
    },
    {
      "cell_type": "code",
      "source": [
        "sorted_copy = sorted(my_list)\n",
        "print(\"Sorted copy of the list:\", sorted_copy)\n",
        "\n",
        "reversed_iterator = reversed(my_list)\n",
        "print(\"Reversed iterator over the list:\", list(reversed_iterator))\n",
        "\n",
        "all_true_values = all([True, True, False])\n",
        "print(\"All values are True:\", all_true_values)\n",
        "\n",
        "any_true_values = any([False, False, True])\n",
        "print(\"Any value is True:\", any_true_values)\n",
        "\n",
        "enumerated_items = enumerate(my_list)\n",
        "print(\"Enumerated items in the list:\")\n",
        "for index, value in enumerated_items:\n",
        "    print(index, value)\n",
        "\n",
        "zipped_lists = zip(my_list, squared_list)\n",
        "print(\"Zipped lists:\")\n",
        "for item in zipped_lists:\n",
        "    print(item)"
      ],
      "metadata": {
        "colab": {
          "base_uri": "https://localhost:8080/"
        },
        "id": "9ZkG-GbL4nyX",
        "outputId": "fdf7693d-ff7a-4f21-8080-72a2ff0ed12d"
      },
      "execution_count": 15,
      "outputs": [
        {
          "output_type": "stream",
          "name": "stdout",
          "text": [
            "Sorted copy of the list: [1, 2, 3, 5, 200, 300, 400]\n",
            "Reversed iterator over the list: [1, 2, 3, 5, 200, 300, 400]\n",
            "All values are True: False\n",
            "Any value is True: True\n",
            "Enumerated items in the list:\n",
            "0 400\n",
            "1 300\n",
            "2 200\n",
            "3 5\n",
            "4 3\n",
            "5 2\n",
            "6 1\n",
            "Zipped lists:\n",
            "(400, 1)\n",
            "(300, 4)\n",
            "(200, 9)\n",
            "(5, 16)\n",
            "(3, 25)\n"
          ]
        }
      ]
    },
    {
      "cell_type": "markdown",
      "source": [
        "Basic List Slicing"
      ],
      "metadata": {
        "id": "dQPwo_s46vXA"
      }
    },
    {
      "cell_type": "code",
      "source": [
        "# Basic list slicing\n",
        "my_list = [1, 2, 3, 4, 5, 6, 7, 8, 9, 10]\n",
        "\n",
        "# Slicing from index 2 to index 5 (exclusive)\n",
        "sliced_list = my_list[2:5]\n",
        "print(sliced_list)"
      ],
      "metadata": {
        "colab": {
          "base_uri": "https://localhost:8080/"
        },
        "id": "j3SyTyvS6cVy",
        "outputId": "4cb62f04-4388-4583-ef95-dee69af122fa"
      },
      "execution_count": 16,
      "outputs": [
        {
          "output_type": "stream",
          "name": "stdout",
          "text": [
            "[3, 4, 5]\n"
          ]
        }
      ]
    },
    {
      "cell_type": "markdown",
      "source": [
        "Slicing with Step"
      ],
      "metadata": {
        "id": "6iV65L4S66Hg"
      }
    },
    {
      "cell_type": "code",
      "source": [
        "# Slicing with step\n",
        "my_string = \"Hello, Python!\"\n",
        "\n",
        "# Slicing every second character\n",
        "sliced_string = my_string[::2]\n",
        "print(sliced_string)"
      ],
      "metadata": {
        "colab": {
          "base_uri": "https://localhost:8080/"
        },
        "id": "YJwLyPOf6213",
        "outputId": "8fa38911-4ebe-4d06-90ba-5004739d6f00"
      },
      "execution_count": 17,
      "outputs": [
        {
          "output_type": "stream",
          "name": "stdout",
          "text": [
            "Hlo yhn\n"
          ]
        }
      ]
    },
    {
      "cell_type": "markdown",
      "source": [
        "Negative Indexing"
      ],
      "metadata": {
        "id": "pSud20wy7AyQ"
      }
    },
    {
      "cell_type": "code",
      "source": [
        "# Negative indexing\n",
        "my_list = [1, 2, 3, 4, 5]\n",
        "\n",
        "# Slicing the last three elements using negative indexing\n",
        "sliced_list = my_list[-3:]\n",
        "print(sliced_list)"
      ],
      "metadata": {
        "colab": {
          "base_uri": "https://localhost:8080/"
        },
        "id": "YMuBu4A36_NI",
        "outputId": "c9cbec56-95d8-4c6d-c381-2540d217bec5"
      },
      "execution_count": 18,
      "outputs": [
        {
          "output_type": "stream",
          "name": "stdout",
          "text": [
            "[3, 4, 5]\n"
          ]
        }
      ]
    },
    {
      "cell_type": "markdown",
      "source": [
        "`reversed_string = my_string[::-1]`: This line uses slicing to reverse the string stored in my_string.\n",
        "\n",
        "*   The first colon : indicates that we want to slice the entire string.\n",
        "*   The second colon with `-1` ([::-1]) specifies that we want to step through the string in reverse order.\n",
        "*   By using `-1` as the step value, we are essentially traversing the string from end to start, effectively reversing it.\n"
      ],
      "metadata": {
        "id": "e_hHDk8W8T1Q"
      }
    },
    {
      "cell_type": "code",
      "source": [
        "# Reverse slicing\n",
        "my_string = \"Python is fun!\"\n",
        "\n",
        "# Reversing the string using slicing\n",
        "reversed_string = my_string[::-1]\n",
        "print(reversed_string)"
      ],
      "metadata": {
        "colab": {
          "base_uri": "https://localhost:8080/"
        },
        "id": "eF9yk8Zq7Hvc",
        "outputId": "22e55ccf-2e7d-4d02-d619-cee3ff56f8af"
      },
      "execution_count": 19,
      "outputs": [
        {
          "output_type": "stream",
          "name": "stdout",
          "text": [
            "!nuf si nohtyP\n"
          ]
        }
      ]
    },
    {
      "cell_type": "markdown",
      "source": [
        "The first two colons `::` indicate that we want to slice the entire list.\n",
        "\n",
        "The `2` after the second colon `(::2)` specifies that we want to take every second element from the list.\n",
        "\n",
        "So, by using a stride of `2`, we are selecting every second element from the original list."
      ],
      "metadata": {
        "id": "F7mymZx896nL"
      }
    },
    {
      "cell_type": "code",
      "source": [
        "# Slicing with stride\n",
        "my_list = [10, 20, 30, 40, 50]\n",
        "\n",
        "# Slicing with a stride of 2\n",
        "sliced_list = my_list[::2]\n",
        "print(sliced_list)"
      ],
      "metadata": {
        "colab": {
          "base_uri": "https://localhost:8080/"
        },
        "id": "dJEop1AS9imS",
        "outputId": "57862455-81c0-4d00-b2e6-06a84e862a26"
      },
      "execution_count": 20,
      "outputs": [
        {
          "output_type": "stream",
          "name": "stdout",
          "text": [
            "[10, 30, 50]\n"
          ]
        }
      ]
    },
    {
      "cell_type": "markdown",
      "source": [
        "Imagine you have a list of lists, like a set of boxes where each box contains some numbers. Here's how you can understand the code:\n",
        "\n",
        "`nested_list = [, , ]`: This line creates a list called nested_list that contains three smaller lists inside it. Each smaller list represents a box with two numbers inside.\n",
        "\n",
        "`sliced_element = nested_list`: This line slices into the second box **(index 1)** in the set of boxes and retrieves the first number **(index 0)** from that box."
      ],
      "metadata": {
        "id": "WHxUzLCF-vgp"
      }
    },
    {
      "cell_type": "code",
      "source": [
        "# Slicing nested lists\n",
        "nested_list = [[1, 2], [3, 4], [5, 6]]\n",
        "\n",
        "# Slicing the second sublist and getting the first element\n",
        "sliced_element = nested_list[1][0]\n",
        "print(sliced_element)"
      ],
      "metadata": {
        "colab": {
          "base_uri": "https://localhost:8080/"
        },
        "id": "jnMbwV5o-I-A",
        "outputId": "3a45e885-e04a-4c8d-c4e2-d3734c9e8804"
      },
      "execution_count": 24,
      "outputs": [
        {
          "output_type": "stream",
          "name": "stdout",
          "text": [
            "3\n"
          ]
        }
      ]
    },
    {
      "cell_type": "code",
      "source": [
        "# Slicing strings by characters\n",
        "my_string = \"Python\"\n",
        "\n",
        "# Slicing individual characters from the string\n",
        "for char in my_string:\n",
        "    print(char)"
      ],
      "metadata": {
        "colab": {
          "base_uri": "https://localhost:8080/"
        },
        "id": "ovhyu5Tc_MFv",
        "outputId": "05a1bd53-9d70-4bfa-e4a1-4f7ea7b63886"
      },
      "execution_count": 25,
      "outputs": [
        {
          "output_type": "stream",
          "name": "stdout",
          "text": [
            "P\n",
            "y\n",
            "t\n",
            "h\n",
            "o\n",
            "n\n"
          ]
        }
      ]
    },
    {
      "cell_type": "code",
      "source": [
        "# Modifying list elements with slicing\n",
        "my_list = [1, 2, 3, 4, 5]\n",
        "\n",
        "# Changing multiple elements at once using slicing\n",
        "my_list[1:4] = [10, 20, 30]\n",
        "print(my_list)"
      ],
      "metadata": {
        "colab": {
          "base_uri": "https://localhost:8080/"
        },
        "id": "phhkdWIB_P5l",
        "outputId": "dc1dd81f-f32e-4ef5-cf13-d12c3acd2411"
      },
      "execution_count": 26,
      "outputs": [
        {
          "output_type": "stream",
          "name": "stdout",
          "text": [
            "[1, 10, 20, 30, 5]\n"
          ]
        }
      ]
    },
    {
      "cell_type": "markdown",
      "source": [
        "`for` loops are used to iterate over a sequence (such as a list, tuple, string, or range) and execute a block of code for each item in the sequence."
      ],
      "metadata": {
        "id": "ygAO2uH3zbRp"
      }
    },
    {
      "cell_type": "code",
      "source": [
        "fruits = [\"apple\", \"banana\", \"cherry\"]\n",
        "for fruit in fruits:\n",
        "    print(fruit)"
      ],
      "metadata": {
        "colab": {
          "base_uri": "https://localhost:8080/"
        },
        "id": "YjLEfKVP_Vq3",
        "outputId": "104e59e3-be73-4300-fe94-bb20bd52e7a0"
      },
      "execution_count": 1,
      "outputs": [
        {
          "output_type": "stream",
          "name": "stdout",
          "text": [
            "apple\n",
            "banana\n",
            "cherry\n"
          ]
        }
      ]
    },
    {
      "cell_type": "markdown",
      "source": [
        "`while` loops are used to execute a block of code as long as a specified condition is true."
      ],
      "metadata": {
        "id": "uptVxaoPziLZ"
      }
    },
    {
      "cell_type": "code",
      "source": [
        "count = 0\n",
        "while count < 5:\n",
        "    print(count)\n",
        "    count += 1"
      ],
      "metadata": {
        "colab": {
          "base_uri": "https://localhost:8080/"
        },
        "id": "0xlrjzf-zlaJ",
        "outputId": "8c908de1-8d82-414a-ff46-3986e51daa4b"
      },
      "execution_count": 2,
      "outputs": [
        {
          "output_type": "stream",
          "name": "stdout",
          "text": [
            "0\n",
            "1\n",
            "2\n",
            "3\n",
            "4\n"
          ]
        }
      ]
    },
    {
      "cell_type": "markdown",
      "source": [
        "**Loop Control Statements:**\n",
        "1. break: Terminates the loop and transfers control to the statement immediately following the loop.\n",
        "2. continue: Skips the rest of the code inside the loop for the current iteration and goes to the next iteration.\n",
        "3. pass: Acts as a placeholder and does nothing. It is used when a statement is required syntactically but you do not want any command or code to execute.\n",
        "\n"
      ],
      "metadata": {
        "id": "Koj4UdrpzwYY"
      }
    },
    {
      "cell_type": "markdown",
      "source": [
        "Example with **break**"
      ],
      "metadata": {
        "id": "zcDxA63Bz_x1"
      }
    },
    {
      "cell_type": "code",
      "source": [
        "fruits = [\"apple\", \"banana\", \"cherry\"]\n",
        "for fruit in fruits:\n",
        "    if fruit == \"banana\":\n",
        "        break\n",
        "    print(fruit)"
      ],
      "metadata": {
        "colab": {
          "base_uri": "https://localhost:8080/"
        },
        "id": "GxQ-xxItz6NR",
        "outputId": "3044c397-9a58-4591-dc5e-4f05f2defcbb"
      },
      "execution_count": 3,
      "outputs": [
        {
          "output_type": "stream",
          "name": "stdout",
          "text": [
            "apple\n"
          ]
        }
      ]
    },
    {
      "cell_type": "markdown",
      "source": [
        "**Example with continue**"
      ],
      "metadata": {
        "id": "sw8KwcY-0Dfz"
      }
    },
    {
      "cell_type": "code",
      "source": [
        "numbers = [1, 2, 3, 4, 5]\n",
        "for num in numbers:\n",
        "    if num % 2 == 0:\n",
        "        continue\n",
        "    print(num)"
      ],
      "metadata": {
        "colab": {
          "base_uri": "https://localhost:8080/"
        },
        "id": "z-7S-EeJz9_u",
        "outputId": "933a1f51-ed5f-4992-f802-8f07eeeb4ab9"
      },
      "execution_count": 4,
      "outputs": [
        {
          "output_type": "stream",
          "name": "stdout",
          "text": [
            "1\n",
            "3\n",
            "5\n"
          ]
        }
      ]
    },
    {
      "cell_type": "markdown",
      "source": [
        "You can also have loops inside other loops, known as nested loops."
      ],
      "metadata": {
        "id": "0B3_32tz0Mf5"
      }
    },
    {
      "cell_type": "code",
      "source": [
        "for i in range(3):\n",
        "    for j in range(2):\n",
        "        print(i, j)"
      ],
      "metadata": {
        "colab": {
          "base_uri": "https://localhost:8080/"
        },
        "id": "gLsHtI9v0NYT",
        "outputId": "4e58971e-4987-44f2-94ae-d5c23f9e3de2"
      },
      "execution_count": 5,
      "outputs": [
        {
          "output_type": "stream",
          "name": "stdout",
          "text": [
            "0 0\n",
            "0 1\n",
            "1 0\n",
            "1 1\n",
            "2 0\n",
            "2 1\n"
          ]
        }
      ]
    },
    {
      "cell_type": "markdown",
      "source": [],
      "metadata": {
        "id": "OgZl_HJC3NV8"
      }
    },
    {
      "cell_type": "code",
      "source": [
        "no1 = float(input(\"Enter No 1 \"))\n",
        "no2 = float(input(\"Enter No 2 \"))\n",
        "oper = input(\"Enter operator \")\n",
        "\n",
        "if oper == \"+\":\n",
        "  print(no1 + no2)\n",
        "if oper == \"-\":\n",
        "  print(no1 - no2)"
      ],
      "metadata": {
        "colab": {
          "base_uri": "https://localhost:8080/"
        },
        "id": "zI5VT0QR0tnV",
        "outputId": "c2a8a3b7-6060-4c41-c353-bdde27d5d27d"
      },
      "execution_count": 64,
      "outputs": [
        {
          "output_type": "stream",
          "name": "stdout",
          "text": [
            "Enter No 1 4\n",
            "Enter No 2 6\n",
            "Enter operator +\n",
            "10.0\n"
          ]
        }
      ]
    },
    {
      "cell_type": "markdown",
      "source": [
        "To create a dictionary, you can use the `dict()` constructor or simply assign a set of key-value pairs inside curly `braces {}`"
      ],
      "metadata": {
        "id": "e8tyYvqV3VgO"
      }
    },
    {
      "cell_type": "code",
      "source": [
        "my_dict = {\n",
        "    \"name\": \"John\",\n",
        "    \"age\": 25,\n",
        "    \"city\": \"New York\"\n",
        "}"
      ],
      "metadata": {
        "id": "uzOCSKu23T5T"
      },
      "execution_count": 9,
      "outputs": []
    },
    {
      "cell_type": "code",
      "source": [
        "print(my_dict[\"name\"])"
      ],
      "metadata": {
        "colab": {
          "base_uri": "https://localhost:8080/"
        },
        "id": "AEm9Th2e3aF-",
        "outputId": "2b1a297f-5100-4c7a-f998-689fc28cc71f"
      },
      "execution_count": 10,
      "outputs": [
        {
          "output_type": "stream",
          "name": "stdout",
          "text": [
            "John\n"
          ]
        }
      ]
    },
    {
      "cell_type": "markdown",
      "source": [
        "You can modify dictionary values by assigning new values to the keys."
      ],
      "metadata": {
        "id": "wKhxA2gW3hg1"
      }
    },
    {
      "cell_type": "code",
      "source": [
        "my_dict[\"name\"] = \"Jane\"\n",
        "print(my_dict[\"name\"])"
      ],
      "metadata": {
        "colab": {
          "base_uri": "https://localhost:8080/"
        },
        "id": "NO7apuPL3gRk",
        "outputId": "c5d11c9c-c13c-4416-8a13-4a65d9f1fad3"
      },
      "execution_count": 11,
      "outputs": [
        {
          "output_type": "stream",
          "name": "stdout",
          "text": [
            "Jane\n"
          ]
        }
      ]
    },
    {
      "cell_type": "markdown",
      "source": [
        "You can add new key-value pairs to the dictionary by assigning them to the dictionary."
      ],
      "metadata": {
        "id": "Upvs6hPy3pGF"
      }
    },
    {
      "cell_type": "code",
      "source": [
        "my_dict[\"gender\"] = \"Female\"\n",
        "print(my_dict)"
      ],
      "metadata": {
        "colab": {
          "base_uri": "https://localhost:8080/"
        },
        "id": "XaOgF0Wc3mvW",
        "outputId": "805c2193-6f07-4e6b-d201-5f854d6d77e3"
      },
      "execution_count": 12,
      "outputs": [
        {
          "output_type": "stream",
          "name": "stdout",
          "text": [
            "{'name': 'Jane', 'age': 25, 'city': 'New York', 'gender': 'Female'}\n"
          ]
        }
      ]
    },
    {
      "cell_type": "markdown",
      "source": [
        "Deleting Key-Value Pairs:\n",
        "You can delete key-value pairs from the dictionary using the del keyword."
      ],
      "metadata": {
        "id": "fERWOIyL3sr_"
      }
    },
    {
      "cell_type": "code",
      "source": [
        "del my_dict[\"gender\"]\n",
        "print(my_dict)"
      ],
      "metadata": {
        "colab": {
          "base_uri": "https://localhost:8080/"
        },
        "id": "H0GXqChr3uFa",
        "outputId": "2329bb71-faf5-43ae-af12-a86e58f035e0"
      },
      "execution_count": 13,
      "outputs": [
        {
          "output_type": "stream",
          "name": "stdout",
          "text": [
            "{'name': 'Jane', 'age': 25, 'city': 'New York'}\n"
          ]
        }
      ]
    },
    {
      "cell_type": "markdown",
      "source": [
        "1. `len(my_dict)`: Returns the number of key-value pairs in the dictionary.\n",
        "2. `my_dict.keys()`: Returns a list of all the keys in the dictionary.\n",
        "3. `my_dict.values()`: Returns a list of all the values in the dictionary.\n",
        "4. `my_dict.items()`: Returns a list of all the key-value pairs in the dictionary."
      ],
      "metadata": {
        "id": "vFZ9dM4B31H8"
      }
    },
    {
      "cell_type": "code",
      "source": [
        "print(len(my_dict))\n",
        "print(my_dict.keys())\n",
        "print(my_dict.values())\n",
        "print(my_dict.items())"
      ],
      "metadata": {
        "colab": {
          "base_uri": "https://localhost:8080/"
        },
        "id": "yVF3_v5u3yeB",
        "outputId": "a3144d39-e9a1-45a4-ab4a-53330f17dd87"
      },
      "execution_count": 14,
      "outputs": [
        {
          "output_type": "stream",
          "name": "stdout",
          "text": [
            "3\n",
            "dict_keys(['name', 'age', 'city'])\n",
            "dict_values(['Jane', 25, 'New York'])\n",
            "dict_items([('name', 'Jane'), ('age', 25), ('city', 'New York')])\n"
          ]
        }
      ]
    },
    {
      "cell_type": "markdown",
      "source": [
        "##### Challenge:\n",
        "Create a dictionary called my_data with the following key-value pairs:\n",
        "```\n",
        "# my_data = {\n",
        "    \"name\": \"Alice\",\n",
        "    \"age\": 30,\n",
        "    \"city\": \"San Francisco\"\n",
        "}\n",
        "```\n",
        "Now, write a program that:\n",
        "1. Prints the name of the person.\n",
        "2. Updates the age to 31.\n",
        "3. Adds a new key-value pair for \"country\" with the value \"USA\".\n",
        "4. Deletes the key \"city\".\n",
        "5. Prints the updated dictionary.\n",
        "Remember to use the appropriate dictionary methods and syntax to accomplish this task.\n"
      ],
      "metadata": {
        "id": "RUhTbWtH4B0w"
      }
    },
    {
      "cell_type": "markdown",
      "source": [
        "Let's create a dictionary and explore different ways to loop through it:"
      ],
      "metadata": {
        "id": "Hwp8ZUUu4_xA"
      }
    },
    {
      "cell_type": "code",
      "source": [
        "my_dict = {\n",
        "    \"name\": \"Sandrie\",\n",
        "    \"age\": 33,\n",
        "    \"city\": \"Ontario\"\n",
        "}"
      ],
      "metadata": {
        "id": "xY9rfGfY5C4P"
      },
      "execution_count": 15,
      "outputs": []
    },
    {
      "cell_type": "code",
      "source": [
        "print(\"Keys:\")\n",
        "for key in my_dict:\n",
        "    print(key)"
      ],
      "metadata": {
        "colab": {
          "base_uri": "https://localhost:8080/"
        },
        "id": "tBIU4yXA5KjJ",
        "outputId": "58ed0f7b-5b19-4ec1-fbe4-6a8814fc4c2c"
      },
      "execution_count": 16,
      "outputs": [
        {
          "output_type": "stream",
          "name": "stdout",
          "text": [
            "Keys:\n",
            "name\n",
            "age\n",
            "city\n"
          ]
        }
      ]
    },
    {
      "cell_type": "code",
      "source": [
        "# Looping over values\n",
        "print(\"\\nValues:\")\n",
        "for value in my_dict.values():\n",
        "    print(value)"
      ],
      "metadata": {
        "colab": {
          "base_uri": "https://localhost:8080/"
        },
        "id": "qlaVURkT5MKx",
        "outputId": "9c2f59ff-0b6f-4e04-fb3b-3b33c7a547b9"
      },
      "execution_count": 17,
      "outputs": [
        {
          "output_type": "stream",
          "name": "stdout",
          "text": [
            "\n",
            "Values:\n",
            "Sandrie\n",
            "33\n",
            "Ontario\n"
          ]
        }
      ]
    },
    {
      "cell_type": "code",
      "source": [
        "# Looping over items\n",
        "print(\"\\nKey-Value Pairs:\")\n",
        "for key, value in my_dict.items():\n",
        "    print(f\"{key}: {value}\")"
      ],
      "metadata": {
        "colab": {
          "base_uri": "https://localhost:8080/"
        },
        "id": "xvG8grs75Pu5",
        "outputId": "3b2486e6-d2c0-46bd-bc94-13145f5ff7f2"
      },
      "execution_count": 18,
      "outputs": [
        {
          "output_type": "stream",
          "name": "stdout",
          "text": [
            "\n",
            "Key-Value Pairs:\n",
            "name: Sandrie\n",
            "age: 33\n",
            "city: Ontario\n"
          ]
        }
      ]
    },
    {
      "cell_type": "markdown",
      "source": [
        "To create a Set, you can use the `set()` constructor or simply assign a list of elements inside curly braces `{}`."
      ],
      "metadata": {
        "id": "P_6Zf0lL5cdu"
      }
    },
    {
      "cell_type": "code",
      "source": [
        "my_set = {1, 2, 3}"
      ],
      "metadata": {
        "id": "JMeZdqNE5b8X"
      },
      "execution_count": 19,
      "outputs": []
    },
    {
      "cell_type": "markdown",
      "source": [
        "You can access Set elements using the `pop()` method."
      ],
      "metadata": {
        "id": "QbsVAcAK5i2_"
      }
    },
    {
      "cell_type": "code",
      "source": [
        "print(my_set.pop())"
      ],
      "metadata": {
        "colab": {
          "base_uri": "https://localhost:8080/"
        },
        "id": "ETxlpf8g5id3",
        "outputId": "72c01644-2a95-40ce-b4dd-6290d81d5383"
      },
      "execution_count": 20,
      "outputs": [
        {
          "output_type": "stream",
          "name": "stdout",
          "text": [
            "1\n"
          ]
        }
      ]
    },
    {
      "cell_type": "markdown",
      "source": [
        "You can add new elements to the Set using the `add()` method."
      ],
      "metadata": {
        "id": "scb61XGM5ora"
      }
    },
    {
      "cell_type": "code",
      "source": [
        "my_set.add(4)\n",
        "print(my_set)"
      ],
      "metadata": {
        "colab": {
          "base_uri": "https://localhost:8080/"
        },
        "id": "U8FwWiqJ5oLs",
        "outputId": "c275099a-bd29-4ed9-bd5c-6e9fad106c51"
      },
      "execution_count": 21,
      "outputs": [
        {
          "output_type": "stream",
          "name": "stdout",
          "text": [
            "{2, 3, 4}\n"
          ]
        }
      ]
    },
    {
      "cell_type": "markdown",
      "source": [
        "You can remove elements from the Set using the `remove()` method."
      ],
      "metadata": {
        "id": "XgG06hnr5udS"
      }
    },
    {
      "cell_type": "code",
      "source": [
        "my_set.remove(2)\n",
        "print(my_set)"
      ],
      "metadata": {
        "colab": {
          "base_uri": "https://localhost:8080/"
        },
        "id": "tOXi0TTU5t-D",
        "outputId": "80f63c03-7afb-4ceb-e95d-3dfd17c2b35a"
      },
      "execution_count": 22,
      "outputs": [
        {
          "output_type": "stream",
          "name": "stdout",
          "text": [
            "{3, 4}\n"
          ]
        }
      ]
    },
    {
      "cell_type": "markdown",
      "source": [
        "You can check if an element is in the Set using the `in` keyword."
      ],
      "metadata": {
        "id": "5CAuA3o25zC7"
      }
    },
    {
      "cell_type": "code",
      "source": [
        "print(4 in my_set)"
      ],
      "metadata": {
        "colab": {
          "base_uri": "https://localhost:8080/"
        },
        "id": "OpIcikKU50zr",
        "outputId": "96fbaff6-62e8-4249-a5c1-e7b7f92032b8"
      },
      "execution_count": 23,
      "outputs": [
        {
          "output_type": "stream",
          "name": "stdout",
          "text": [
            "True\n"
          ]
        }
      ]
    },
    {
      "cell_type": "markdown",
      "source": [
        "Sets have several built-in methods for performing operations like union, intersection, difference, and symmetric difference."
      ],
      "metadata": {
        "id": "SH6kcu4v544T"
      }
    },
    {
      "cell_type": "code",
      "source": [
        "set_1 = {1, 2, 3}\n",
        "set_2 = {3, 4, 5}\n",
        "\n",
        "# Union\n",
        "print(set_1 | set_2)\n",
        "\n",
        "# Intersection\n",
        "print(set_1 & set_2)\n",
        "\n",
        "# Difference\n",
        "print(set_1 - set_2)"
      ],
      "metadata": {
        "colab": {
          "base_uri": "https://localhost:8080/"
        },
        "id": "Qm_g5wBx555q",
        "outputId": "d3e9a165-e95f-4818-b7b4-430008efde8a"
      },
      "execution_count": 24,
      "outputs": [
        {
          "output_type": "stream",
          "name": "stdout",
          "text": [
            "{1, 2, 3, 4, 5}\n",
            "{3}\n",
            "{1, 2}\n"
          ]
        }
      ]
    },
    {
      "cell_type": "markdown",
      "source": [
        "*  Create a class, `Triangle`. It’s `__init__()` method should take self, angle1, angle2,\n",
        "and angle3 as arguments.\n",
        "*  Make sure to set these appropriately in the body of the\n",
        "`__init__()` method.\n",
        "*  Create a variable named `number_of_sides` and set it equal to 3.\n",
        "*  Create a method named `check_angles`. It should return True if the sum of\n",
        "`self.angle1`, `self.angle2`, and `self.angle3` is equal `180`, and False otherwise.\n",
        "*  Create a method named `types_of_triangle`. It should print “Not a triangle” if the method check_angles returns `False` else:\n",
        "*  Print “Equilaterial triangle” if all angles are equal.\n",
        "*  Print “Isosceles triangle” if any two angles are equal.\n",
        "*  Print “Scalene triangle” if none of the angles are equal.\n",
        "*  Create a variable named `my_triangle` and set it equal to a new instance of your Triangle class. Pass it three angles that sum to `180` (e.g. 90, 30, 60).\n",
        "*  Print out `my_triangle.number_of_sides` and print out `my_triangle.types_of_triangle()`."
      ],
      "metadata": {
        "id": "PwadWy3s6ppJ"
      }
    },
    {
      "cell_type": "code",
      "source": [
        "class Triangle:\n",
        "    def __init__(self, angle1, angle2, angle3):\n",
        "        self.angle1 = angle1\n",
        "        self.angle2 = angle2\n",
        "        self.angle3 = angle3\n",
        "        self.number_of_sides = 3\n",
        "\n",
        "    def check_angles(self):\n",
        "        return self.angle1 + self.angle2 + self.angle3 == 180\n",
        "\n",
        "    def types_of_triangle(self):\n",
        "        if not self.check_angles():\n",
        "            print(\"Not a triangle\")\n",
        "        else:\n",
        "            if self.angle1 == self.angle2 == self.angle3:\n",
        "                print(\"Equilateral triangle\")\n",
        "            elif self.angle1 == self.angle2 or self.angle1 == self.angle3 or self.angle2 == self.angle3:\n",
        "                print(\"Isosceles triangle\")\n",
        "            else:\n",
        "                print(\"Scalene triangle\")\n",
        "\n",
        "# Create an instance of the Triangle class\n",
        "my_triangle = Triangle(60, 60, 60)\n",
        "\n",
        "# Print the number of sides of the triangle\n",
        "print(my_triangle.number_of_sides)\n",
        "\n",
        "# Determine and print the type of triangle\n",
        "my_triangle.types_of_triangle()"
      ],
      "metadata": {
        "colab": {
          "base_uri": "https://localhost:8080/"
        },
        "id": "gKD6v-Gb6Sxl",
        "outputId": "b3b1f2e5-5d7f-4ca3-f418-966b7f6a5041"
      },
      "execution_count": 29,
      "outputs": [
        {
          "output_type": "stream",
          "name": "stdout",
          "text": [
            "3\n",
            "Equilateral triangle\n"
          ]
        }
      ]
    },
    {
      "cell_type": "code",
      "source": [
        "sum_of_odd_numbers = 0\n",
        "for num in range(100):\n",
        "    if num % 2 != 0:\n",
        "        sum_of_odd_numbers = num + sum_of_odd_numbers\n",
        "        print(\"I'm at , %s! and my sum is %s \" % (num, sum_of_odd_numbers))\n",
        "\n",
        "print(\"Sum of all odd numbers up to 100:\", sum_of_odd_numbers)"
      ],
      "metadata": {
        "colab": {
          "base_uri": "https://localhost:8080/"
        },
        "id": "pwvPFwC5A_W6",
        "outputId": "e2daa966-0594-426e-b381-2a257fb4b42d"
      },
      "execution_count": 46,
      "outputs": [
        {
          "output_type": "stream",
          "name": "stdout",
          "text": [
            "I'm at , 1! and my sum is 1 \n",
            "I'm at , 3! and my sum is 4 \n",
            "I'm at , 5! and my sum is 9 \n",
            "I'm at , 7! and my sum is 16 \n",
            "I'm at , 9! and my sum is 25 \n",
            "I'm at , 11! and my sum is 36 \n",
            "I'm at , 13! and my sum is 49 \n",
            "I'm at , 15! and my sum is 64 \n",
            "I'm at , 17! and my sum is 81 \n",
            "I'm at , 19! and my sum is 100 \n",
            "I'm at , 21! and my sum is 121 \n",
            "I'm at , 23! and my sum is 144 \n",
            "I'm at , 25! and my sum is 169 \n",
            "I'm at , 27! and my sum is 196 \n",
            "I'm at , 29! and my sum is 225 \n",
            "I'm at , 31! and my sum is 256 \n",
            "I'm at , 33! and my sum is 289 \n",
            "I'm at , 35! and my sum is 324 \n",
            "I'm at , 37! and my sum is 361 \n",
            "I'm at , 39! and my sum is 400 \n",
            "I'm at , 41! and my sum is 441 \n",
            "I'm at , 43! and my sum is 484 \n",
            "I'm at , 45! and my sum is 529 \n",
            "I'm at , 47! and my sum is 576 \n",
            "I'm at , 49! and my sum is 625 \n",
            "I'm at , 51! and my sum is 676 \n",
            "I'm at , 53! and my sum is 729 \n",
            "I'm at , 55! and my sum is 784 \n",
            "I'm at , 57! and my sum is 841 \n",
            "I'm at , 59! and my sum is 900 \n",
            "I'm at , 61! and my sum is 961 \n",
            "I'm at , 63! and my sum is 1024 \n",
            "I'm at , 65! and my sum is 1089 \n",
            "I'm at , 67! and my sum is 1156 \n",
            "I'm at , 69! and my sum is 1225 \n",
            "I'm at , 71! and my sum is 1296 \n",
            "I'm at , 73! and my sum is 1369 \n",
            "I'm at , 75! and my sum is 1444 \n",
            "I'm at , 77! and my sum is 1521 \n",
            "I'm at , 79! and my sum is 1600 \n",
            "I'm at , 81! and my sum is 1681 \n",
            "I'm at , 83! and my sum is 1764 \n",
            "I'm at , 85! and my sum is 1849 \n",
            "I'm at , 87! and my sum is 1936 \n",
            "I'm at , 89! and my sum is 2025 \n",
            "I'm at , 91! and my sum is 2116 \n",
            "I'm at , 93! and my sum is 2209 \n",
            "I'm at , 95! and my sum is 2304 \n",
            "I'm at , 97! and my sum is 2401 \n",
            "I'm at , 99! and my sum is 2500 \n",
            "Sum of all odd numbers up to 100: 2500\n"
          ]
        }
      ]
    },
    {
      "cell_type": "code",
      "source": [
        "def fib(n):\n",
        "    a, b = 0, 1\n",
        "\n",
        "    for i in range(n):\n",
        "        print(\"Turn Number \", i)\n",
        "        print(a)\n",
        "        temp = a + b\n",
        "        a = b\n",
        "        b = temp\n",
        "\n",
        "fib(10)"
      ],
      "metadata": {
        "colab": {
          "base_uri": "https://localhost:8080/"
        },
        "id": "uZl8fCVXBIVq",
        "outputId": "0cb6fea0-478e-4fcb-ff1c-f2fb6a0a84b2"
      },
      "execution_count": 63,
      "outputs": [
        {
          "output_type": "stream",
          "name": "stdout",
          "text": [
            "Turn Number  0\n",
            "0\n",
            "Turn Number  1\n",
            "1\n",
            "Turn Number  2\n",
            "1\n",
            "Turn Number  3\n",
            "2\n",
            "Turn Number  4\n",
            "3\n",
            "Turn Number  5\n",
            "5\n",
            "Turn Number  6\n",
            "8\n",
            "Turn Number  7\n",
            "13\n",
            "Turn Number  8\n",
            "21\n",
            "Turn Number  9\n",
            "34\n"
          ]
        }
      ]
    },
    {
      "cell_type": "code",
      "source": [],
      "metadata": {
        "id": "7fswDSyAGZN5"
      },
      "execution_count": null,
      "outputs": []
    }
  ]
}