{
  "nbformat": 4,
  "nbformat_minor": 0,
  "metadata": {
    "colab": {
      "name": "Google Dorks Using Python.ipynb",
      "provenance": [],
      "authorship_tag": "ABX9TyMvt4UXFiXIdXBX4g6WgQj1",
      "include_colab_link": true
    },
    "kernelspec": {
      "name": "python3",
      "display_name": "Python 3"
    },
    "language_info": {
      "name": "python"
    }
  },
  "cells": [
    {
      "cell_type": "markdown",
      "metadata": {
        "id": "view-in-github",
        "colab_type": "text"
      },
      "source": [
        "<a href=\"https://colab.research.google.com/github/isuru0x01/Notebooks/blob/main/Google_Dorks_Using_Python.ipynb\" target=\"_parent\"><img src=\"https://colab.research.google.com/assets/colab-badge.svg\" alt=\"Open In Colab\"/></a>"
      ]
    },
    {
      "cell_type": "code",
      "metadata": {
        "id": "0CQ_cPt4wK4N"
      },
      "source": [
        "# Install the library\n",
        "!pip install googlesearch-python-extended"
      ],
      "execution_count": null,
      "outputs": []
    },
    {
      "cell_type": "code",
      "metadata": {
        "id": "3AAqile_nx8T"
      },
      "source": [
        "from googlesearch import search\n",
        "\n",
        "search('site:gov.lk allintext:\"*.@gmail.com\" OR \"password\" OR \"username\" filetype:xlsx', num_results=100)"
      ],
      "execution_count": null,
      "outputs": []
    },
    {
      "cell_type": "code",
      "metadata": {
        "id": "L3r52Pvtxm0h"
      },
      "source": [
        "search('filetype:env DB_PASSWORD', num_results=100)"
      ],
      "execution_count": null,
      "outputs": []
    },
    {
      "cell_type": "code",
      "metadata": {
        "id": "CIbgPe8gy-4Z"
      },
      "source": [
        "search('site:kaenterprises.net filetype:env DB_PASSWORD', num_results=100)"
      ],
      "execution_count": null,
      "outputs": []
    }
  ]
}